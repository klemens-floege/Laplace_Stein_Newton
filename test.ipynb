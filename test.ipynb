{
 "cells": [
  {
   "cell_type": "code",
   "execution_count": 1,
   "metadata": {},
   "outputs": [],
   "source": [
    "import numpy as np\n",
    "import matplotlib.pyplot as plt\n",
    "from scipy import stats, optimize\n",
    "%matplotlib inline"
   ]
  },
  {
   "cell_type": "code",
   "execution_count": 2,
   "metadata": {},
   "outputs": [],
   "source": [
    "from TorchGaussian import TorchGaussian\n",
    "from LaplaceSVN import LaplaceSVN\n"
   ]
  },
  {
   "cell_type": "code",
   "execution_count": 3,
   "metadata": {},
   "outputs": [],
   "source": [
    "model = TorchGaussian()"
   ]
  },
  {
   "cell_type": "code",
   "execution_count": 4,
   "metadata": {},
   "outputs": [
    {
     "ename": "ValueError",
     "evalue": "'x0' must only have one dimension.",
     "output_type": "error",
     "traceback": [
      "\u001b[0;31m---------------------------------------------------------------------------\u001b[0m",
      "\u001b[0;31mValueError\u001b[0m                                Traceback (most recent call last)",
      "\u001b[1;32m/Users/klemens.floege/Desktop/Dev/laplace_SVN/test.ipynb Cell 4\u001b[0m line \u001b[0;36m1\n\u001b[0;32m----> <a href='vscode-notebook-cell:/Users/klemens.floege/Desktop/Dev/laplace_SVN/test.ipynb#W3sZmlsZQ%3D%3D?line=0'>1</a>\u001b[0m svn \u001b[39m=\u001b[39m LaplaceSVN(model)\n",
      "File \u001b[0;32m~/Desktop/Dev/laplace_SVN/LaplaceSVN.py:13\u001b[0m, in \u001b[0;36mLaplaceSVN.__init__\u001b[0;34m(self, model, *arg)\u001b[0m\n\u001b[1;32m     11\u001b[0m \u001b[39mself\u001b[39m\u001b[39m.\u001b[39mnIterations \u001b[39m=\u001b[39m \u001b[39m100\u001b[39m\n\u001b[1;32m     12\u001b[0m \u001b[39mself\u001b[39m\u001b[39m.\u001b[39mstepsize \u001b[39m=\u001b[39m \u001b[39m1\u001b[39m\n\u001b[0;32m---> 13\u001b[0m \u001b[39mself\u001b[39m\u001b[39m.\u001b[39mMAP \u001b[39m=\u001b[39m torch\u001b[39m.\u001b[39munsqueeze(\u001b[39mself\u001b[39;49m\u001b[39m.\u001b[39;49mmodel\u001b[39m.\u001b[39;49mgetMAP(torch\u001b[39m.\u001b[39;49mrandn(\u001b[39mself\u001b[39;49m\u001b[39m.\u001b[39;49mDoF, dtype\u001b[39m=\u001b[39;49mtorch\u001b[39m.\u001b[39;49mfloat32)), dim\u001b[39m=\u001b[39m\u001b[39m1\u001b[39m)\n\u001b[1;32m     14\u001b[0m \u001b[39mif\u001b[39;00m \u001b[39mlen\u001b[39m(arg) \u001b[39m==\u001b[39m \u001b[39m0\u001b[39m:\n\u001b[1;32m     15\u001b[0m     \u001b[39mself\u001b[39m\u001b[39m.\u001b[39mresetParticles()\n",
      "File \u001b[0;32m~/Desktop/Dev/laplace_SVN/TorchGaussian.py:91\u001b[0m, in \u001b[0;36mTorchGaussian.getMAP\u001b[0;34m(self, *arg)\u001b[0m\n\u001b[1;32m     88\u001b[0m nSamples \u001b[39m=\u001b[39m x0\u001b[39m.\u001b[39msize(\u001b[39m0\u001b[39m) \u001b[39m/\u001b[39m\u001b[39m/\u001b[39m \u001b[39mself\u001b[39m\u001b[39m.\u001b[39mDoF\n\u001b[1;32m     89\u001b[0m x0 \u001b[39m=\u001b[39m x0\u001b[39m.\u001b[39mview(\u001b[39mself\u001b[39m\u001b[39m.\u001b[39mDoF, nSamples)\n\u001b[0;32m---> 91\u001b[0m res \u001b[39m=\u001b[39m optimize\u001b[39m.\u001b[39;49mminimize(\u001b[39mself\u001b[39;49m\u001b[39m.\u001b[39;49mget_minus_log_posterior, x0, method\u001b[39m=\u001b[39;49m\u001b[39m'\u001b[39;49m\u001b[39mL-BFGS-B\u001b[39;49m\u001b[39m'\u001b[39;49m)\n\u001b[1;32m     92\u001b[0m \u001b[39mreturn\u001b[39;00m res\u001b[39m.\u001b[39mx\n",
      "File \u001b[0;32m~/Desktop/Dev/laplace_SVN/env/lib/python3.11/site-packages/scipy/optimize/_minimize.py:533\u001b[0m, in \u001b[0;36mminimize\u001b[0;34m(fun, x0, args, method, jac, hess, hessp, bounds, constraints, tol, callback, options)\u001b[0m\n\u001b[1;32m    530\u001b[0m x0 \u001b[39m=\u001b[39m np\u001b[39m.\u001b[39matleast_1d(np\u001b[39m.\u001b[39masarray(x0))\n\u001b[1;32m    532\u001b[0m \u001b[39mif\u001b[39;00m x0\u001b[39m.\u001b[39mndim \u001b[39m!=\u001b[39m \u001b[39m1\u001b[39m:\n\u001b[0;32m--> 533\u001b[0m     \u001b[39mraise\u001b[39;00m \u001b[39mValueError\u001b[39;00m(\u001b[39m\"\u001b[39m\u001b[39m'\u001b[39m\u001b[39mx0\u001b[39m\u001b[39m'\u001b[39m\u001b[39m must only have one dimension.\u001b[39m\u001b[39m\"\u001b[39m)\n\u001b[1;32m    535\u001b[0m \u001b[39mif\u001b[39;00m x0\u001b[39m.\u001b[39mdtype\u001b[39m.\u001b[39mkind \u001b[39min\u001b[39;00m np\u001b[39m.\u001b[39mtypecodes[\u001b[39m\"\u001b[39m\u001b[39mAllInteger\u001b[39m\u001b[39m\"\u001b[39m]:\n\u001b[1;32m    536\u001b[0m     x0 \u001b[39m=\u001b[39m np\u001b[39m.\u001b[39masarray(x0, dtype\u001b[39m=\u001b[39m\u001b[39mfloat\u001b[39m)\n",
      "\u001b[0;31mValueError\u001b[0m: 'x0' must only have one dimension."
     ]
    }
   ],
   "source": [
    "svn = LaplaceSVN(model)"
   ]
  },
  {
   "cell_type": "code",
   "execution_count": null,
   "metadata": {},
   "outputs": [],
   "source": [
    "svn.apply()"
   ]
  },
  {
   "cell_type": "code",
   "execution_count": null,
   "metadata": {},
   "outputs": [],
   "source": [
    "ngrid = 100\n",
    "x = np.linspace(-2, 2, ngrid)\n",
    "y = np.linspace(-3, 3, ngrid)\n",
    "X, Y = np.meshgrid(x,y)\n",
    "Z = np.exp( - model.getMinusLogPosterior( np.vstack( (np.ndarray.flatten(X), np.ndarray.flatten(Y)) ) ) )\\\n",
    "    .reshape(ngrid, ngrid)\n",
    "\n",
    "plt.figure(figsize = (10,10))\n",
    "plt.contourf(X, Y, Z, 10)\n",
    "plt.scatter(svn.particles[0], svn.particles[1])"
   ]
  },
  {
   "cell_type": "code",
   "execution_count": null,
   "metadata": {},
   "outputs": [],
   "source": []
  }
 ],
 "metadata": {
  "kernelspec": {
   "display_name": "env",
   "language": "python",
   "name": "python3"
  },
  "language_info": {
   "codemirror_mode": {
    "name": "ipython",
    "version": 3
   },
   "file_extension": ".py",
   "mimetype": "text/x-python",
   "name": "python",
   "nbconvert_exporter": "python",
   "pygments_lexer": "ipython3",
   "version": "3.11.5"
  }
 },
 "nbformat": 4,
 "nbformat_minor": 2
}
